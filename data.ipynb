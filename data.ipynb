{
 "cells": [
  {
   "cell_type": "markdown",
   "id": "3bbe4718",
   "metadata": {},
   "source": [
    "# Uber Driver Data Analysis\n",
    "\n",
    "This notebook analyzes driver performance, earnings, and behavior patterns from the Uber hackathon dataset."
   ]
  },
  {
   "cell_type": "markdown",
   "id": "22cdd1f4",
   "metadata": {},
   "source": [
    "## 1. Import Libraries and Load Data"
   ]
  },
  {
   "metadata": {},
   "cell_type": "code",
   "source": [
    "!pip install -U pip\n",
    "!pip install pandas matplotlib seaborn openpyxl"
   ],
   "id": "a2474d763a078785",
   "outputs": [],
   "execution_count": null
  },
  {
   "cell_type": "code",
   "id": "1eab45fd",
   "metadata": {},
   "source": [
    "import pandas as pd\n",
    "import matplotlib.pyplot as plt\n",
    "import seaborn as sns\n",
    "import warnings\n",
    "warnings.filterwarnings('ignore')\n",
    "\n",
    "# Set style for better-looking plots\n",
    "sns.set_style(\"whitegrid\")\n",
    "plt.rcParams['figure.dpi'] = 100"
   ],
   "outputs": [],
   "execution_count": null
  },
  {
   "cell_type": "code",
   "id": "26f7406d",
   "metadata": {},
   "source": [
    "# ---------------------------\n",
    "# Load all sheets from the Excel file\n",
    "# ---------------------------\n",
    "file_path = \"uber_hackathon_v2_mock_data.xlsx\"\n",
    "sheets = pd.read_excel(file_path, sheet_name=None)\n",
    "\n",
    "# Assign sheets to variables\n",
    "earners = sheets['earners']\n",
    "rides_trips = sheets['rides_trips']\n",
    "earnings_daily = sheets['earnings_daily']\n",
    "incentives_weekly = sheets['incentives_weekly']\n",
    "cancellation_rates = sheets['cancellation_rates']\n",
    "surge_by_hour = sheets.get('surge_by_hour')        # optional\n",
    "weather_daily = sheets.get('weather_daily')        # optional\n",
    "heatmap_sheet = sheets.get('heatmap')              # optional\n",
    "jobs_like = sheets.get('jobs_like')                # optional\n",
    "\n",
    "# Convert datetime columns\n",
    "rides_trips['start_time'] = pd.to_datetime(rides_trips['start_time'])\n",
    "rides_trips['end_time'] = pd.to_datetime(rides_trips['end_time'])\n",
    "earnings_daily['date'] = pd.to_datetime(earnings_daily['date'])\n",
    "\n",
    "print(f\"Loaded {len(sheets)} sheets from {file_path}\")\n",
    "print(f\"\\nEarners: {len(earners)} records\")\n",
    "print(f\"Rides/Trips: {len(rides_trips)} records\")\n",
    "print(f\"Daily Earnings: {len(earnings_daily)} records\")\n",
    "print(f\"Weekly Incentives: {len(incentives_weekly)} records\")"
   ],
   "outputs": [],
   "execution_count": null
  },
  {
   "cell_type": "markdown",
   "id": "b866d96c",
   "metadata": {},
   "source": [
    "## 2. Earnings vs Working Time"
   ]
  },
  {
   "cell_type": "code",
   "id": "9ea9380b",
   "metadata": {},
   "source": [
    "# ---------------------------\n",
    "# 1. Earnings vs Working Time\n",
    "# ---------------------------\n",
    "plt.figure(figsize=(8,6))\n",
    "sns.scatterplot(x='rides_duration_mins', y='total_net_earnings', data=earnings_daily, alpha=0.5)\n",
    "plt.title('Earnings vs. Working Time')\n",
    "plt.xlabel('Rides Duration (mins)')\n",
    "plt.ylabel('Total Net Earnings (€)')\n",
    "plt.tight_layout()\n",
    "plt.show()"
   ],
   "outputs": [],
   "execution_count": null
  },
  {
   "cell_type": "markdown",
   "id": "e6670c4f",
   "metadata": {},
   "source": [
    "## 3. Trips per Day Distribution"
   ]
  },
  {
   "cell_type": "code",
   "id": "9a23027f",
   "metadata": {},
   "source": [
    "# ---------------------------\n",
    "# 2. Trips per Day Distribution\n",
    "# ---------------------------\n",
    "plt.figure(figsize=(8,6))\n",
    "sns.histplot(earnings_daily['trips_count'], bins=15, kde=False)\n",
    "plt.title('Trips per Day Distribution')\n",
    "plt.xlabel('Trips per Day')\n",
    "plt.ylabel('Number of Drivers')\n",
    "plt.tight_layout()\n",
    "plt.show()"
   ],
   "outputs": [],
   "execution_count": null
  },
  {
   "cell_type": "markdown",
   "id": "a64edf4f",
   "metadata": {},
   "source": [
    "## 4. Hourly Earnings Curve"
   ]
  },
  {
   "cell_type": "code",
   "id": "eb92b7e3",
   "metadata": {},
   "source": [
    "# ---------------------------\n",
    "# 3. Hourly Earnings Curve\n",
    "# ---------------------------\n",
    "rides_trips['hour'] = rides_trips['start_time'].dt.hour\n",
    "hourly_earnings = rides_trips.groupby('hour')['net_earnings'].mean().reset_index()\n",
    "plt.figure(figsize=(8,6))\n",
    "sns.lineplot(x='hour', y='net_earnings', data=hourly_earnings, marker='o')\n",
    "plt.title('Hourly Earnings Curve')\n",
    "plt.xlabel('Hour of Day')\n",
    "plt.ylabel('Average Net Earnings (€)')\n",
    "plt.tight_layout()\n",
    "plt.show()"
   ],
   "outputs": [],
   "execution_count": null
  },
  {
   "cell_type": "markdown",
   "id": "96bb97ce",
   "metadata": {},
   "source": [
    "## 5. Idle Time Analysis"
   ]
  },
  {
   "cell_type": "code",
   "id": "cb4704f0",
   "metadata": {},
   "source": [
    "# ---------------------------\n",
    "# 4. Idle Time Analysis\n",
    "# ---------------------------\n",
    "rides_trips_sorted = rides_trips.sort_values(['driver_id','start_time'])\n",
    "rides_trips_sorted['next_start'] = rides_trips_sorted.groupby('driver_id')['start_time'].shift(-1)\n",
    "rides_trips_sorted['idle_time_mins'] = (rides_trips_sorted['next_start'] - rides_trips_sorted['end_time']).dt.total_seconds()/60\n",
    "\n",
    "# Filter out negative and extreme values\n",
    "rides_trips_filtered = rides_trips_sorted[(rides_trips_sorted['idle_time_mins'] > 0) & \n",
    "                                           (rides_trips_sorted['idle_time_mins'] < 300)]\n",
    "\n",
    "plt.figure(figsize=(8,6))\n",
    "sns.scatterplot(x='idle_time_mins', y='net_earnings', data=rides_trips_filtered, alpha=0.5)\n",
    "plt.title('Idle Time vs Earnings')\n",
    "plt.xlabel('Idle Time (mins)')\n",
    "plt.ylabel('Net Earnings (€)')\n",
    "plt.tight_layout()\n",
    "plt.show()"
   ],
   "outputs": [],
   "execution_count": null
  },
  {
   "cell_type": "markdown",
   "id": "612584b8",
   "metadata": {},
   "source": [
    "## 6. Weekly Incentives Effect"
   ]
  },
  {
   "cell_type": "code",
   "id": "4dbcceb1",
   "metadata": {},
   "source": [
    "# ---------------------------\n",
    "# 5. Weekly Incentives Effect\n",
    "# ---------------------------\n",
    "weekly_earnings = earnings_daily.groupby('earner_id').agg({'total_net_earnings':'sum'}).reset_index()\n",
    "weekly_data = weekly_earnings.merge(incentives_weekly, on='earner_id', how='left')\n",
    "plt.figure(figsize=(8,6))\n",
    "sns.scatterplot(x='bonus_eur', y='total_net_earnings', data=weekly_data, alpha=0.5)\n",
    "plt.title('Weekly Incentives vs Total Earnings')\n",
    "plt.xlabel('Bonus (€)')\n",
    "plt.ylabel('Total Net Earnings (€)')\n",
    "plt.tight_layout()\n",
    "plt.show()"
   ],
   "outputs": [],
   "execution_count": null
  },
  {
   "cell_type": "markdown",
   "id": "adf2db50",
   "metadata": {},
   "source": [
    "## 7. Driver Rating vs Workload"
   ]
  },
  {
   "cell_type": "code",
   "id": "982d86f4",
   "metadata": {},
   "source": [
    "# ---------------------------\n",
    "# 6. Driver Rating vs Workload\n",
    "# ---------------------------\n",
    "driver_workload = rides_trips.groupby('driver_id')['duration_mins'].mean().reset_index()\n",
    "rating_workload = driver_workload.merge(earners[['earner_id','rating']], \n",
    "                                         left_on='driver_id', \n",
    "                                         right_on='earner_id', \n",
    "                                         how='left')\n",
    "plt.figure(figsize=(8,6))\n",
    "sns.scatterplot(x='duration_mins', y='rating', data=rating_workload, alpha=0.5)\n",
    "plt.title('Driver Rating vs Average Workload')\n",
    "plt.xlabel('Average Trip Duration (mins)')\n",
    "plt.ylabel('Driver Rating')\n",
    "plt.tight_layout()\n",
    "plt.show()"
   ],
   "outputs": [],
   "execution_count": null
  },
  {
   "cell_type": "markdown",
   "id": "90de6c7b",
   "metadata": {},
   "source": [
    "## 8. Cancellation Rate vs Surge"
   ]
  },
  {
   "cell_type": "code",
   "id": "d5b4e135",
   "metadata": {},
   "source": [
    "# ---------------------------\n",
    "# 7. Cancellation Rate vs Surge\n",
    "# ---------------------------\n",
    "if surge_by_hour is not None:\n",
    "    # Add hour column to cancellation_rates if needed\n",
    "    # For this analysis, we'll aggregate by city\n",
    "    cancellation_city = cancellation_rates.groupby('city_id').agg({\n",
    "        'cancellation_rate_pct': 'mean'\n",
    "    }).reset_index()\n",
    "    \n",
    "    surge_city = surge_by_hour.groupby('city_id').agg({\n",
    "        'surge_multiplier': 'mean'\n",
    "    }).reset_index()\n",
    "    \n",
    "    cancellation_surge = cancellation_city.merge(surge_city, on='city_id', how='left')\n",
    "    \n",
    "    plt.figure(figsize=(8,6))\n",
    "    sns.scatterplot(x='surge_multiplier', y='cancellation_rate_pct', \n",
    "                    data=cancellation_surge, s=100)\n",
    "    plt.title('Cancellation Rate vs Surge Multiplier (by City)')\n",
    "    plt.xlabel('Average Surge Multiplier')\n",
    "    plt.ylabel('Average Cancellation Rate (%)')\n",
    "    plt.tight_layout()\n",
    "    plt.show()\n",
    "else:\n",
    "    print(\"Surge data not available\")"
   ],
   "outputs": [],
   "execution_count": null
  },
  {
   "cell_type": "markdown",
   "id": "f5170887",
   "metadata": {},
   "source": [
    "## 9. Fatigue Heatmap - Trips by Hour and Day"
   ]
  },
  {
   "cell_type": "code",
   "id": "4e3739f9",
   "metadata": {},
   "source": [
    "# ---------------------------\n",
    "# 8. Fatigue Heatmap\n",
    "# ---------------------------\n",
    "rides_trips['day_of_week'] = rides_trips['start_time'].dt.day_name()\n",
    "heatmap_data = rides_trips.pivot_table(index='hour', \n",
    "                                        columns='day_of_week', \n",
    "                                        values='ride_id', \n",
    "                                        aggfunc='count')\n",
    "\n",
    "# Reorder columns to show days in proper order\n",
    "day_order = ['Monday', 'Tuesday', 'Wednesday', 'Thursday', 'Friday', 'Saturday', 'Sunday']\n",
    "heatmap_data = heatmap_data[[col for col in day_order if col in heatmap_data.columns]]\n",
    "\n",
    "plt.figure(figsize=(12,8))\n",
    "sns.heatmap(heatmap_data, cmap='YlOrRd', annot=True, fmt='g', cbar_kws={'label': 'Number of Trips'})\n",
    "plt.title('Fatigue Heatmap: Trips per Hour by Day of Week')\n",
    "plt.xlabel('Day of Week')\n",
    "plt.ylabel('Hour of Day')\n",
    "plt.tight_layout()\n",
    "plt.show()"
   ],
   "outputs": [],
   "execution_count": null
  }
 ],
 "metadata": {
  "kernelspec": {
   "display_name": ".venv",
   "language": "python",
   "name": "python3"
  },
  "language_info": {
   "codemirror_mode": {
    "name": "ipython",
    "version": 3
   },
   "file_extension": ".py",
   "mimetype": "text/x-python",
   "name": "python",
   "nbconvert_exporter": "python",
   "pygments_lexer": "ipython3",
   "version": "3.13.5"
  }
 },
 "nbformat": 4,
 "nbformat_minor": 5
}
