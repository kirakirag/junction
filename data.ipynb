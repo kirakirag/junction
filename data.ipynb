{
 "cells": [
  {
   "cell_type": "markdown",
   "id": "3bbe4718",
   "metadata": {},
   "source": [
    "# Uber Driver Data Analysis\n",
    "\n",
    "This notebook analyzes driver performance, earnings, and behavior patterns from the Uber hackathon dataset."
   ]
  },
  {
   "cell_type": "markdown",
   "id": "22cdd1f4",
   "metadata": {},
   "source": [
    "## 1. Import Libraries and Load Data"
   ]
  },
  {
   "cell_type": "code",
   "execution_count": null,
   "id": "a2474d763a078785",
   "metadata": {},
   "outputs": [],
   "source": [
    "!pip install -U pip\n",
    "!pip install pandas matplotlib seaborn openpyxl"
   ]
  },
  {
   "cell_type": "code",
   "execution_count": null,
   "id": "1eab45fd",
   "metadata": {},
   "outputs": [],
   "source": [
    "import pandas as pd\n",
    "import matplotlib.pyplot as plt\n",
    "import seaborn as sns\n",
    "import warnings\n",
    "warnings.filterwarnings('ignore')\n",
    "\n",
    "# Set style for better-looking plots\n",
    "sns.set_style(\"whitegrid\")\n",
    "plt.rcParams['figure.dpi'] = 100"
   ]
  },
  {
   "cell_type": "code",
   "execution_count": null,
   "id": "26f7406d",
   "metadata": {},
   "outputs": [],
   "source": [
    "# ---------------------------\n",
    "# Load all sheets from the Excel file\n",
    "# ---------------------------\n",
    "file_path = \"uber_hackathon_v2_mock_data.xlsx\"\n",
    "sheets = pd.read_excel(file_path, sheet_name=None)\n",
    "\n",
    "# Assign sheets to variables\n",
    "earners = sheets['earners']\n",
    "rides_trips = sheets['rides_trips']\n",
    "earnings_daily = sheets['earnings_daily']\n",
    "incentives_weekly = sheets['incentives_weekly']\n",
    "cancellation_rates = sheets['cancellation_rates']\n",
    "surge_by_hour = sheets.get('surge_by_hour')        # optional\n",
    "weather_daily = sheets.get('weather_daily')        # optional\n",
    "heatmap_sheet = sheets.get('heatmap')              # optional\n",
    "jobs_like = sheets.get('jobs_like')                # optional\n",
    "\n",
    "# Convert datetime columns\n",
    "rides_trips['start_time'] = pd.to_datetime(rides_trips['start_time'])\n",
    "rides_trips['end_time'] = pd.to_datetime(rides_trips['end_time'])\n",
    "earnings_daily['date'] = pd.to_datetime(earnings_daily['date'])\n",
    "\n",
    "print(f\"Loaded {len(sheets)} sheets from {file_path}\")\n",
    "print(f\"\\nEarners: {len(earners)} records\")\n",
    "print(f\"Rides/Trips: {len(rides_trips)} records\")\n",
    "print(f\"Daily Earnings: {len(earnings_daily)} records\")\n",
    "print(f\"Weekly Incentives: {len(incentives_weekly)} records\")"
   ]
  },
  {
   "cell_type": "markdown",
   "id": "b866d96c",
   "metadata": {},
   "source": [
    "## 2. Earnings vs Working Time"
   ]
  },
  {
   "cell_type": "code",
   "execution_count": null,
   "id": "9ea9380b",
   "metadata": {},
   "outputs": [],
   "source": [
    "# ---------------------------\n",
    "# 1. Earnings vs Working Time\n",
    "# ---------------------------\n",
    "plt.figure(figsize=(8,6))\n",
    "sns.scatterplot(x='rides_duration_mins', y='total_net_earnings', data=earnings_daily, alpha=0.5)\n",
    "plt.title('Earnings vs. Working Time')\n",
    "plt.xlabel('Rides Duration (mins)')\n",
    "plt.ylabel('Total Net Earnings (€)')\n",
    "plt.tight_layout()\n",
    "plt.show()"
   ]
  },
  {
   "cell_type": "markdown",
   "id": "e6670c4f",
   "metadata": {},
   "source": [
    "## 3. Trips per Day Distribution"
   ]
  },
  {
   "cell_type": "code",
   "execution_count": null,
   "id": "9a23027f",
   "metadata": {},
   "outputs": [],
   "source": [
    "# ---------------------------\n",
    "# 2. Trips per Day Distribution\n",
    "# ---------------------------\n",
    "plt.figure(figsize=(8,6))\n",
    "sns.histplot(earnings_daily['trips_count'], bins=15, kde=False)\n",
    "plt.title('Trips per Day Distribution')\n",
    "plt.xlabel('Trips per Day')\n",
    "plt.ylabel('Number of Drivers')\n",
    "plt.tight_layout()\n",
    "plt.show()"
   ]
  },
  {
   "cell_type": "markdown",
   "id": "a64edf4f",
   "metadata": {},
   "source": [
    "## 4. Hourly Earnings Curve"
   ]
  },
  {
   "cell_type": "code",
   "execution_count": null,
   "id": "eb92b7e3",
   "metadata": {},
   "outputs": [],
   "source": [
    "# ---------------------------\n",
    "# 3. Hourly Earnings Curve\n",
    "# ---------------------------\n",
    "rides_trips['hour'] = rides_trips['start_time'].dt.hour\n",
    "hourly_earnings = rides_trips.groupby('hour')['net_earnings'].mean().reset_index()\n",
    "plt.figure(figsize=(8,6))\n",
    "sns.lineplot(x='hour', y='net_earnings', data=hourly_earnings, marker='o')\n",
    "plt.title('Hourly Earnings Curve')\n",
    "plt.xlabel('Hour of Day')\n",
    "plt.ylabel('Average Net Earnings (€)')\n",
    "plt.tight_layout()\n",
    "plt.show()"
   ]
  },
  {
   "cell_type": "markdown",
   "id": "96bb97ce",
   "metadata": {},
   "source": [
    "## 5. Idle Time Analysis"
   ]
  },
  {
   "cell_type": "code",
   "execution_count": null,
   "id": "cb4704f0",
   "metadata": {},
   "outputs": [],
   "source": [
    "# ---------------------------\n",
    "# 4. Idle Time Analysis\n",
    "# ---------------------------\n",
    "rides_trips_sorted = rides_trips.sort_values(['driver_id','start_time'])\n",
    "rides_trips_sorted['next_start'] = rides_trips_sorted.groupby('driver_id')['start_time'].shift(-1)\n",
    "rides_trips_sorted['idle_time_mins'] = (rides_trips_sorted['next_start'] - rides_trips_sorted['end_time']).dt.total_seconds()/60\n",
    "\n",
    "# Filter out negative and extreme values\n",
    "rides_trips_filtered = rides_trips_sorted[(rides_trips_sorted['idle_time_mins'] > 0) & \n",
    "                                           (rides_trips_sorted['idle_time_mins'] < 300)]\n",
    "\n",
    "plt.figure(figsize=(8,6))\n",
    "sns.scatterplot(x='idle_time_mins', y='net_earnings', data=rides_trips_filtered, alpha=0.5)\n",
    "plt.title('Idle Time vs Earnings')\n",
    "plt.xlabel('Idle Time (mins)')\n",
    "plt.ylabel('Net Earnings (€)')\n",
    "plt.tight_layout()\n",
    "plt.show()"
   ]
  },
  {
   "cell_type": "markdown",
   "id": "612584b8",
   "metadata": {},
   "source": [
    "## 6. Weekly Incentives Effect"
   ]
  },
  {
   "cell_type": "code",
   "execution_count": null,
   "id": "4dbcceb1",
   "metadata": {},
   "outputs": [],
   "source": [
    "# ---------------------------\n",
    "# 5. Weekly Incentives Effect\n",
    "# ---------------------------\n",
    "weekly_earnings = earnings_daily.groupby('earner_id').agg({'total_net_earnings':'sum'}).reset_index()\n",
    "weekly_data = weekly_earnings.merge(incentives_weekly, on='earner_id', how='left')\n",
    "plt.figure(figsize=(8,6))\n",
    "sns.scatterplot(x='bonus_eur', y='total_net_earnings', data=weekly_data, alpha=0.5)\n",
    "plt.title('Weekly Incentives vs Total Earnings')\n",
    "plt.xlabel('Bonus (€)')\n",
    "plt.ylabel('Total Net Earnings (€)')\n",
    "plt.tight_layout()\n",
    "plt.show()"
   ]
  },
  {
   "cell_type": "markdown",
   "id": "adf2db50",
   "metadata": {},
   "source": [
    "## 7. Driver Rating vs Workload"
   ]
  },
  {
   "cell_type": "code",
   "execution_count": null,
   "id": "982d86f4",
   "metadata": {},
   "outputs": [],
   "source": [
    "# ---------------------------\n",
    "# 6. Driver Rating vs Workload\n",
    "# ---------------------------\n",
    "driver_workload = rides_trips.groupby('driver_id')['duration_mins'].mean().reset_index()\n",
    "rating_workload = driver_workload.merge(earners[['earner_id','rating']], \n",
    "                                         left_on='driver_id', \n",
    "                                         right_on='earner_id', \n",
    "                                         how='left')\n",
    "plt.figure(figsize=(8,6))\n",
    "sns.scatterplot(x='duration_mins', y='rating', data=rating_workload, alpha=0.5)\n",
    "plt.title('Driver Rating vs Average Workload')\n",
    "plt.xlabel('Average Trip Duration (mins)')\n",
    "plt.ylabel('Driver Rating')\n",
    "plt.tight_layout()\n",
    "plt.show()"
   ]
  },
  {
   "cell_type": "markdown",
   "id": "90de6c7b",
   "metadata": {},
   "source": [
    "## 8. Cancellation Rate vs Surge"
   ]
  },
  {
   "cell_type": "code",
   "execution_count": null,
   "id": "d5b4e135",
   "metadata": {},
   "outputs": [],
   "source": [
    "# ---------------------------\n",
    "# 7. Cancellation Rate vs Surge\n",
    "# ---------------------------\n",
    "if surge_by_hour is not None:\n",
    "    # Add hour column to cancellation_rates if needed\n",
    "    # For this analysis, we'll aggregate by city\n",
    "    cancellation_city = cancellation_rates.groupby('city_id').agg({\n",
    "        'cancellation_rate_pct': 'mean'\n",
    "    }).reset_index()\n",
    "    \n",
    "    surge_city = surge_by_hour.groupby('city_id').agg({\n",
    "        'surge_multiplier': 'mean'\n",
    "    }).reset_index()\n",
    "    \n",
    "    cancellation_surge = cancellation_city.merge(surge_city, on='city_id', how='left')\n",
    "    \n",
    "    plt.figure(figsize=(8,6))\n",
    "    sns.scatterplot(x='surge_multiplier', y='cancellation_rate_pct', \n",
    "                    data=cancellation_surge, s=100)\n",
    "    plt.title('Cancellation Rate vs Surge Multiplier (by City)')\n",
    "    plt.xlabel('Average Surge Multiplier')\n",
    "    plt.ylabel('Average Cancellation Rate (%)')\n",
    "    plt.tight_layout()\n",
    "    plt.show()\n",
    "else:\n",
    "    print(\"Surge data not available\")"
   ]
  },
  {
   "cell_type": "markdown",
   "id": "f5170887",
   "metadata": {},
   "source": [
    "## 9. Fatigue Heatmap - Trips by Hour and Day"
   ]
  },
  {
   "cell_type": "code",
   "execution_count": null,
   "id": "4e3739f9",
   "metadata": {},
   "outputs": [],
   "source": [
    "# ---------------------------\n",
    "# 8. Fatigue Heatmap\n",
    "# ---------------------------\n",
    "rides_trips['day_of_week'] = rides_trips['start_time'].dt.day_name()\n",
    "heatmap_data = rides_trips.pivot_table(index='hour', \n",
    "                                        columns='day_of_week', \n",
    "                                        values='ride_id', \n",
    "                                        aggfunc='count')\n",
    "\n",
    "# Reorder columns to show days in proper order\n",
    "day_order = ['Monday', 'Tuesday', 'Wednesday', 'Thursday', 'Friday', 'Saturday', 'Sunday']\n",
    "heatmap_data = heatmap_data[[col for col in day_order if col in heatmap_data.columns]]\n",
    "\n",
    "plt.figure(figsize=(12,8))\n",
    "sns.heatmap(heatmap_data, cmap='YlOrRd', annot=True, fmt='g', cbar_kws={'label': 'Number of Trips'})\n",
    "plt.title('Fatigue Heatmap: Trips per Hour by Day of Week')\n",
    "plt.xlabel('Day of Week')\n",
    "plt.ylabel('Hour of Day')\n",
    "plt.tight_layout()\n",
    "plt.show()"
   ]
  },
  {
   "cell_type": "markdown",
   "id": "f1800a0c",
   "metadata": {},
   "source": [
    "## 10. Driver Performance Table - Trips, Duration & Profits per Day"
   ]
  },
  {
   "cell_type": "code",
   "execution_count": null,
   "id": "fc993dd3",
   "metadata": {},
   "outputs": [],
   "source": [
    "# ---------------------------\n",
    "# Driver Performance Table: Trips, Duration & Profits per Day\n",
    "# ---------------------------\n",
    "\n",
    "# Create a comprehensive table showing driver performance metrics per day\n",
    "driver_daily_summary = earnings_daily.copy()\n",
    "\n",
    "# Add driver information (rating, etc.)\n",
    "driver_daily_summary = driver_daily_summary.merge(\n",
    "    earners[['earner_id', 'rating']], \n",
    "    on='earner_id', \n",
    "    how='left'\n",
    ")\n",
    "\n",
    "# Add day of week for better readability\n",
    "driver_daily_summary['day_of_week'] = driver_daily_summary['date'].dt.day_name()\n",
    "driver_daily_summary['date_formatted'] = driver_daily_summary['date'].dt.strftime('%Y-%m-%d')\n",
    "\n",
    "# Create the summary table with key metrics\n",
    "performance_table = driver_daily_summary[[\n",
    "    'earner_id', 'date_formatted', 'day_of_week', 'trips_count', \n",
    "    'rides_duration_mins', 'total_net_earnings', 'rating'\n",
    "]].copy()\n",
    "\n",
    "# Sort by driver ID and date\n",
    "performance_table = performance_table.sort_values(['earner_id', 'date_formatted'])\n",
    "\n",
    "# Rename columns for better readability\n",
    "performance_table.columns = [\n",
    "    'Driver ID', 'Date', 'Day of Week', 'Daily Trips', \n",
    "    'Total Duration (mins)', 'Total Earnings (€)', 'Driver Rating'\n",
    "]\n",
    "\n",
    "print(\"Driver Performance Summary - Trips, Duration & Profits per Day\")\n",
    "print(\"=\" * 80)\n",
    "print(f\"Total Records: {len(performance_table)}\")\n",
    "print(f\"Unique Drivers: {performance_table['Driver ID'].nunique()}\")\n",
    "print(f\"Date Range: {performance_table['Date'].min()} to {performance_table['Date'].max()}\")\n",
    "print(\"\\nFirst 20 records:\")\n",
    "print(\"-\" * 80)\n",
    "\n",
    "# Display the table with proper formatting\n",
    "pd.set_option('display.max_columns', None)\n",
    "pd.set_option('display.width', None)\n",
    "pd.set_option('display.max_colwidth', None)\n",
    "\n",
    "display(performance_table.head(20))"
   ]
  },
  {
   "cell_type": "code",
   "execution_count": null,
   "id": "89b2e5a0",
   "metadata": {},
   "outputs": [],
   "source": [
    "# ---------------------------\n",
    "# Additional Statistics and Insights\n",
    "# ---------------------------\n",
    "\n",
    "print(\"\\n\" + \"=\"*80)\n",
    "print(\"DRIVER PERFORMANCE STATISTICS\")\n",
    "print(\"=\"*80)\n",
    "\n",
    "# Overall statistics\n",
    "print(\"\\n📊 OVERALL PERFORMANCE METRICS:\")\n",
    "print(\"-\" * 40)\n",
    "print(f\"Average Daily Trips per Driver: {performance_table['Daily Trips'].mean():.2f}\")\n",
    "print(f\"Average Daily Duration per Driver: {performance_table['Total Duration (mins)'].mean():.2f} minutes ({performance_table['Total Duration (mins)'].mean()/60:.1f} hours)\")\n",
    "print(f\"Average Daily Earnings per Driver: €{performance_table['Total Earnings (€)'].mean():.2f}\")\n",
    "print(f\"Average Driver Rating: {performance_table['Driver Rating'].mean():.2f}\")\n",
    "\n",
    "# Top performers\n",
    "print(f\"\\n🏆 TOP PERFORMING DRIVERS (by total earnings):\")\n",
    "print(\"-\" * 40)\n",
    "top_earners = performance_table.groupby('Driver ID').agg({\n",
    "    'Daily Trips': 'sum',\n",
    "    'Total Duration (mins)': 'sum', \n",
    "    'Total Earnings (€)': 'sum',\n",
    "    'Driver Rating': 'first'\n",
    "}).sort_values('Total Earnings (€)', ascending=False).head(5)\n",
    "\n",
    "top_earners.columns = ['Total Trips', 'Total Duration (mins)', 'Total Earnings (€)', 'Rating']\n",
    "display(top_earners)\n",
    "\n",
    "# Efficiency metrics (earnings per trip, earnings per hour)\n",
    "print(f\"\\n💡 EFFICIENCY METRICS:\")\n",
    "print(\"-\" * 40)\n",
    "efficiency_table = performance_table.copy()\n",
    "\n",
    "# Calculate efficiency metrics properly (handling zero cases)\n",
    "efficiency_table['Earnings per Trip (€)'] = efficiency_table.apply(\n",
    "    lambda row: row['Total Earnings (€)'] / row['Daily Trips'] if row['Daily Trips'] > 0 else 0, axis=1\n",
    ")\n",
    "efficiency_table['Earnings per Hour (€)'] = efficiency_table.apply(\n",
    "    lambda row: row['Total Earnings (€)'] / (row['Total Duration (mins)'] / 60) if row['Total Duration (mins)'] > 0 else 0, axis=1\n",
    ")\n",
    "\n",
    "# Calculate averages excluding zeros\n",
    "valid_trips = efficiency_table[efficiency_table['Daily Trips'] > 0]\n",
    "valid_duration = efficiency_table[efficiency_table['Total Duration (mins)'] > 0]\n",
    "\n",
    "print(f\"Average Earnings per Trip: €{valid_trips['Earnings per Trip (€)'].mean():.2f}\")\n",
    "print(f\"Average Earnings per Hour: €{valid_duration['Earnings per Hour (€)'].mean():.2f}\")\n",
    "\n",
    "# Day of week analysis\n",
    "print(f\"\\n📅 PERFORMANCE BY DAY OF WEEK:\")\n",
    "print(\"-\" * 40)\n",
    "day_performance = performance_table.groupby('Day of Week').agg({\n",
    "    'Daily Trips': 'mean',\n",
    "    'Total Duration (mins)': 'mean',\n",
    "    'Total Earnings (€)': 'mean'\n",
    "}).round(2)\n",
    "\n",
    "day_performance.columns = ['Avg Daily Trips', 'Avg Duration (mins)', 'Avg Earnings (€)']\n",
    "display(day_performance)"
   ]
  },
  {
   "cell_type": "code",
   "execution_count": null,
   "id": "53f69382",
   "metadata": {},
   "outputs": [],
   "source": [
    "# ---------------------------\n",
    "# Export Detailed Performance Table\n",
    "# ---------------------------\n",
    "\n",
    "# Create a more detailed table for export/analysis\n",
    "detailed_performance_table = performance_table.copy()\n",
    "\n",
    "# Add efficiency metrics\n",
    "detailed_performance_table['Earnings per Trip (€)'] = detailed_performance_table.apply(\n",
    "    lambda row: round(row['Total Earnings (€)'] / row['Daily Trips'], 2) if row['Daily Trips'] > 0 else 0, axis=1\n",
    ")\n",
    "\n",
    "detailed_performance_table['Earnings per Hour (€)'] = detailed_performance_table.apply(\n",
    "    lambda row: round(row['Total Earnings (€)'] / (row['Total Duration (mins)'] / 60), 2) if row['Total Duration (mins)'] > 0 else 0, axis=1\n",
    ")\n",
    "\n",
    "print(\"\\n\" + \"=\"*80)\n",
    "print(\"DETAILED DRIVER PERFORMANCE TABLE\")\n",
    "print(\"=\"*80)\n",
    "print(f\"Total records in table: {len(detailed_performance_table)}\")\n",
    "print(f\"Columns: {list(detailed_performance_table.columns)}\")\n",
    "\n",
    "print(f\"\\nSample of detailed table (first 10 records):\")\n",
    "print(\"-\" * 80)\n",
    "display(detailed_performance_table.head(10))\n",
    "\n",
    "# Optionally save to Excel\n",
    "try:\n",
    "    detailed_performance_table.to_excel('driver_performance_table.xlsx', index=False)\n",
    "    print(f\"\\n✅ Table exported to 'driver_performance_table.xlsx'\")\n",
    "except Exception as e:\n",
    "    print(f\"\\n⚠️ Could not export to Excel: {e}\")\n",
    "\n",
    "# Summary statistics\n",
    "active_drivers = detailed_performance_table[detailed_performance_table['Daily Trips'] > 0]\n",
    "print(f\"\\n📋 FINAL SUMMARY:\")\n",
    "print(\"-\" * 30)\n",
    "print(f\"• Total records: {len(detailed_performance_table)}\")\n",
    "print(f\"• Active driver-days: {len(active_drivers)}\")\n",
    "print(f\"• Unique drivers: {detailed_performance_table['Driver ID'].nunique()}\")\n",
    "print(f\"• Date range: {detailed_performance_table['Date'].min()} to {detailed_performance_table['Date'].max()}\")\n",
    "print(f\"• Total trips across all drivers: {detailed_performance_table['Daily Trips'].sum()}\")\n",
    "print(f\"• Total earnings across all drivers: €{detailed_performance_table['Total Earnings (€)'].sum():.2f}\")\n",
    "print(f\"• Total working time: {detailed_performance_table['Total Duration (mins)'].sum():.0f} minutes ({detailed_performance_table['Total Duration (mins)'].sum()/60:.1f} hours)\")"
   ]
  }
 ],
 "metadata": {
  "kernelspec": {
   "display_name": ".venv",
   "language": "python",
   "name": "python3"
  },
  "language_info": {
   "codemirror_mode": {
    "name": "ipython",
    "version": 3
   },
   "file_extension": ".py",
   "mimetype": "text/x-python",
   "name": "python",
   "nbconvert_exporter": "python",
   "pygments_lexer": "ipython3",
   "version": "3.13.5"
  }
 },
 "nbformat": 4,
 "nbformat_minor": 5
}
