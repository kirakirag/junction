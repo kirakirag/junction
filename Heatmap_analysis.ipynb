{
 "cells": [
  {
   "cell_type": "code",
   "execution_count": 1,
   "id": "14c15f12",
   "metadata": {},
   "outputs": [],
   "source": [
    "import pandas as pd\n",
    "import matplotlib.pyplot as plt\n",
    "import seaborn as sns\n",
    "import warnings\n",
    "warnings.filterwarnings('ignore')\n",
    "\n",
    "# Set style for better-looking plots\n",
    "sns.set_style(\"whitegrid\")\n",
    "plt.rcParams['figure.dpi'] = 100"
   ]
  },
  {
   "cell_type": "code",
   "execution_count": 2,
   "id": "135f0ee2",
   "metadata": {},
   "outputs": [
    {
     "name": "stdout",
     "output_type": "stream",
     "text": [
      "Loaded 14 sheets from uber_hackathon_v2_mock_data.xlsx\n",
      "\n",
      "Earners: 360 records\n",
      "Rides/Trips: 3000 records\n",
      "Daily Earnings: 5270 records\n",
      "Weekly Incentives: 3622 records\n"
     ]
    }
   ],
   "source": [
    "# ---------------------------\n",
    "# Load all sheets from the Excel file\n",
    "# ---------------------------\n",
    "file_path = \"uber_hackathon_v2_mock_data.xlsx\"\n",
    "sheets = pd.read_excel(file_path, sheet_name=None)\n",
    "\n",
    "# Assign sheets to variables\n",
    "earners = sheets['earners']\n",
    "rides_trips = sheets['rides_trips']\n",
    "earnings_daily = sheets['earnings_daily']\n",
    "incentives_weekly = sheets['incentives_weekly']\n",
    "cancellation_rates = sheets['cancellation_rates']\n",
    "surge_by_hour = sheets.get('surge_by_hour')        # optional\n",
    "weather_daily = sheets.get('weather_daily')        # optional\n",
    "heatmap_sheet = sheets.get('heatmap')              # optional\n",
    "jobs_like = sheets.get('jobs_like')                # optional\n",
    "\n",
    "# Convert datetime columns\n",
    "rides_trips['start_time'] = pd.to_datetime(rides_trips['start_time'])\n",
    "rides_trips['end_time'] = pd.to_datetime(rides_trips['end_time'])\n",
    "earnings_daily['date'] = pd.to_datetime(earnings_daily['date'])\n",
    "\n",
    "print(f\"Loaded {len(sheets)} sheets from {file_path}\")\n",
    "print(f\"\\nEarners: {len(earners)} records\")\n",
    "print(f\"Rides/Trips: {len(rides_trips)} records\")\n",
    "print(f\"Daily Earnings: {len(earnings_daily)} records\")\n",
    "print(f\"Weekly Incentives: {len(incentives_weekly)} records\")"
   ]
  },
  {
   "cell_type": "code",
   "execution_count": null,
   "id": "e8f16354",
   "metadata": {},
   "outputs": [
    {
     "data": {
      "image/png": "[encoded data removed]",
      "text/plain": [
       "<Figure size 800x600 with 2 Axes>"
      ]
     },
     "metadata": {},
     "output_type": "display_data"
    }
   ],
   "source": [
    "# heatmapdf = heatmap_sheet.groupby(['msg.city_id', 'msg.map_id'])['species']\n",
    "# --- H3 hex -> lat/lon conversion + quick heatmap ---\n",
    "# This cell converts H3 hex ids in `heatmap_sheet['msg.map_id']` to latitude/longitude\n",
    "# and plots a simple aggregated heatmap (scatter with point size/color by count).\n",
    "# It will print an install hint if the `h3` package is not available.\n",
    "\n",
    "\n",
    "\n",
    "try:\n",
    "    import h3\n",
    "    # from h3 import h3 as h3lib\n",
    "except Exception as e:\n",
    "    print(\"h3 library not installed. To install, run: pip install h3\")\n",
    "    # stop further execution of this cell when h3 is missing\n",
    "    raise\n",
    "\n",
    "# Ensure heatmap sheet exists\n",
    "if heatmap_sheet is None:\n",
    "    print(\"No 'heatmap' sheet found in the workbook.\")\n",
    "else:\n",
    "    # Copy to avoid SettingWithCopy warnings\n",
    "    df_h = heatmap_sheet.copy()\n",
    "\n",
    "    # Normalize column name: try to find where the hex id lives\n",
    "    # Common column names from dataset: 'msg.map_id', 'map_id', 'hex_id'\n",
    "    possible_cols = ['msg.map_id', 'map_id', 'hex_id']\n",
    "    hex_col = None\n",
    "    for c in possible_cols:\n",
    "        if c in df_h.columns:\n",
    "            hex_col = c\n",
    "            break\n",
    "    if hex_col is None:\n",
    "        # fallback: try any column containing 'map' or 'hex'\n",
    "        for c in df_h.columns:\n",
    "            if 'map' in c or 'hex' in c:\n",
    "                hex_col = c\n",
    "                break\n",
    "    if hex_col is None:\n",
    "        raise ValueError(\"Could not find a hex id column in heatmap sheet. Columns: {}\".format(list(df_h.columns)))\n",
    "\n",
    "    # Convert H3 to (lat, lon)\n",
    "    def hex_to_latlon(h):\n",
    "        try:\n",
    "            lat, lon = h3.h3_to_geo(h)\n",
    "            return lat, lon\n",
    "        except Exception:\n",
    "            return None, None\n",
    "\n",
    "    coords = df_h[hex_col].astype(str).map(lambda x: hex_to_latlon(x))\n",
    "    df_h['lat'] = coords.map(lambda t: t[0])\n",
    "    df_h['lon'] = coords.map(lambda t: t[1])\n",
    "\n",
    "    # Drop rows where conversion failed\n",
    "    df_h = df_h.dropna(subset=['lat', 'lon'])\n",
    "\n",
    "    # Aggregate counts per hex (or per lat/lon) for plotting\n",
    "    agg = df_h.groupby(hex_col).size().reset_index(name='count')\n",
    "    # join back a representative lat/lon for each hex\n",
    "    rep = df_h.groupby(hex_col).agg({'lat':'first','lon':'first'}).reset_index()\n",
    "    agg = agg.merge(rep, on=hex_col)\n",
    "\n",
    "    # Quick scatter heatmap using seaborn/matplotlib\n",
    "    plt.figure(figsize=(8,6))\n",
    "    sc = plt.scatter(agg['lon'], agg['lat'], c=agg['count'], s=(agg['count']**0.6)*50, cmap='Reds', alpha=0.7)\n",
    "    plt.colorbar(sc, label='count')\n",
    "    plt.xlabel('Longitude')\n",
    "    plt.ylabel('Latitude')\n",
    "    plt.title('Heatmap (hex -> lat/lon)')\n",
    "    plt.grid(True)\n",
    "    plt.show()"
   ]
  }
 ],
 "metadata": {
  "kernelspec": {
   "display_name": "Python 3",
   "language": "python",
   "name": "python3"
  },
  "language_info": {
   "codemirror_mode": {
    "name": "ipython",
    "version": 3
   },
   "file_extension": ".py",
   "mimetype": "text/x-python",
   "name": "python",
   "nbconvert_exporter": "python",
   "pygments_lexer": "ipython3",
   "version": "3.13.7"
  }
 },
 "nbformat": 4,
 "nbformat_minor": 5
}
